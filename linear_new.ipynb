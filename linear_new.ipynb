{
 "cells": [
  {
   "cell_type": "code",
   "execution_count": null,
   "metadata": {},
   "outputs": [],
   "source": [
    "def one_hot_encode(df, column):\n",
    " dummies = pd.get_dummies(df[column], prefix=column)\n",
    " df = pd.concat([df, dummies], axis=1)\n",
    " df.drop(column, axis=1, inplace=True)\n",
    " return df\n"
   ]
  },
  {
   "cell_type": "code",
   "execution_count": null,
   "metadata": {},
   "outputs": [],
   "source": [
    "def normalize(X):\n",
    " return (X - X.min()) / (X.max() - X.min())\n",
    " \n",
    " def standardize(X):\n",
    " return (X - X.mean()) / X.std()"
   ]
  },
  {
   "cell_type": "code",
   "execution_count": null,
   "metadata": {},
   "outputs": [],
   "source": [
    "def create_correlation_matrix(df):\n",
    " correlation_matrix = df.corr()\n",
    " return correlation_matrix"
   ]
  },
  {
   "cell_type": "code",
   "execution_count": null,
   "metadata": {},
   "outputs": [],
   "source": []
  }
 ],
 "metadata": {
  "language_info": {
   "name": "python"
  }
 },
 "nbformat": 4,
 "nbformat_minor": 2
}
