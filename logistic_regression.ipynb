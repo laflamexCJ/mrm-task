{
 "cells": [
  {
   "cell_type": "code",
   "execution_count": null,
   "id": "6eae73a3-eef3-48d3-9c93-aed22c4442cf",
   "metadata": {},
   "outputs": [],
   "source": [
    "import pandas as pd\n",
    "\n",
    "# Load the CSV file into a DataFrame\n",
    "data = pd.read_csv('\"C:\\Users\\vargh\\Downloads\\titanic.csv\"')\n",
    "\n",
    "# Display the first few rows of the data\n"
   ]
  }
 ],
 "metadata": {
  "kernelspec": {
   "display_name": "Python 3 (ipykernel)",
   "language": "python",
   "name": "python3"
  },
  "language_info": {
   "codemirror_mode": {
    "name": "ipython",
    "version": 3
   },
   "file_extension": ".py",
   "mimetype": "text/x-python",
   "name": "python",
   "nbconvert_exporter": "python",
   "pygments_lexer": "ipython3",
   "version": "3.11.4"
  }
 },
 "nbformat": 4,
 "nbformat_minor": 5
}
